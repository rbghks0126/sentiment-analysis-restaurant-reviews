{
 "cells": [
  {
   "cell_type": "markdown",
   "metadata": {},
   "source": [
    "# COMP30027 - Assignment 2\n",
    "## Sentiment Analysis using Ensemble Stacking"
   ]
  },
  {
   "cell_type": "markdown",
   "metadata": {},
   "source": [
    "#### Gyu Hwan Park | Student ID: 998174"
   ]
  },
  {
   "cell_type": "markdown",
   "metadata": {},
   "source": [
    "### Importing Libraries"
   ]
  },
  {
   "cell_type": "code",
   "execution_count": 1,
   "metadata": {},
   "outputs": [],
   "source": [
    "import pandas as pd \n",
    "import numpy as np\n",
    "\n",
    "from sklearn.feature_selection import SelectPercentile, SelectFpr, chi2, mutual_info_classif\n",
    "\n",
    "import matplotlib.pyplot as plt\n",
    "import seaborn as sns\n",
    "\n",
    "import pickle\n",
    "\n",
    "import scipy\n",
    "\n",
    "import matplotlib.pyplot as plt\n",
    "import seaborn as sns\n",
    "\n",
    "from mlxtend.classifier import StackingCVClassifier"
   ]
  },
  {
   "cell_type": "markdown",
   "metadata": {},
   "source": [
    "conda install mlxtend --channel conda-forge"
   ]
  },
  {
   "cell_type": "markdown",
   "metadata": {},
   "source": [
    "### Load Datasets"
   ]
  },
  {
   "cell_type": "markdown",
   "metadata": {},
   "source": [
    "#### Basic Datasets"
   ]
  },
  {
   "cell_type": "code",
   "execution_count": 2,
   "metadata": {},
   "outputs": [],
   "source": [
    "meta_train = pd.read_csv(r\"review_meta_train.csv\", index_col = False, delimiter = ',')\n",
    "text_train = pd.read_csv(r\"review_text_train.csv\", index_col = False, delimiter = ',')\n",
    "\n",
    "meta_test = pd.read_csv(r\"review_meta_test.csv\", index_col = False, delimiter = ',')\n",
    "text_test = pd.read_csv(r\"review_text_test.csv\", index_col = False, delimiter = ',')"
   ]
  },
  {
   "cell_type": "markdown",
   "metadata": {},
   "source": [
    "#### Count Vectorizer"
   ]
  },
  {
   "cell_type": "code",
   "execution_count": 3,
   "metadata": {},
   "outputs": [
    {
     "name": "stderr",
     "output_type": "stream",
     "text": [
      "C:\\Users\\Gyu Hwan Park\\AppData\\Roaming\\Python\\Python37\\site-packages\\sklearn\\base.py:334: UserWarning: Trying to unpickle estimator CountVectorizer from version 0.21.3 when using version 0.23.0. This might lead to breaking code or invalid results. Use at your own risk.\n",
      "  UserWarning)\n"
     ]
    }
   ],
   "source": [
    "vocab = pickle.load(open(\"train_countvectorizer.pkl\", \"rb\"))\n",
    "vocab_dict = vocab.vocabulary_"
   ]
  },
  {
   "cell_type": "code",
   "execution_count": 4,
   "metadata": {},
   "outputs": [],
   "source": [
    "text_train_vec = scipy.sparse.load_npz('review_text_train_vec.npz')\n",
    "text_test_vec = scipy.sparse.load_npz('review_text_test_vec.npz')"
   ]
  },
  {
   "cell_type": "markdown",
   "metadata": {},
   "source": [
    "#### doc2vec 50, 100, 200"
   ]
  },
  {
   "cell_type": "code",
   "execution_count": 5,
   "metadata": {},
   "outputs": [],
   "source": [
    "train_doc2vec50 = pd.read_csv(r\"review_text_train_doc2vec50.csv\", index_col = False, delimiter = ',', header=None)\n",
    "test_doc2vec50 = pd.read_csv(r\"review_text_test_doc2vec50.csv\", index_col = False, delimiter = ',', header=None)"
   ]
  },
  {
   "cell_type": "code",
   "execution_count": 6,
   "metadata": {},
   "outputs": [],
   "source": [
    "train_doc2vec100 = pd.read_csv(r\"review_text_train_doc2vec100.csv\", index_col = False, delimiter = ',', header=None)\n",
    "test_doc2vec100 = pd.read_csv(r\"review_text_test_doc2vec100.csv\", index_col = False, delimiter = ',', header=None)"
   ]
  },
  {
   "cell_type": "code",
   "execution_count": 7,
   "metadata": {},
   "outputs": [],
   "source": [
    "train_doc2vec200 = pd.read_csv(r\"review_text_train_doc2vec200.csv\", index_col = False, delimiter = ',', header=None)\n",
    "test_doc2vec200 = pd.read_csv(r\"review_text_test_doc2vec200.csv\", index_col = False, delimiter = ',', header=None)"
   ]
  },
  {
   "cell_type": "markdown",
   "metadata": {},
   "source": [
    "### Single Models"
   ]
  },
  {
   "cell_type": "markdown",
   "metadata": {},
   "source": [
    "#### Additional Libraries"
   ]
  },
  {
   "cell_type": "code",
   "execution_count": 8,
   "metadata": {},
   "outputs": [],
   "source": [
    "from sklearn.linear_model import LogisticRegression, SGDClassifier\n",
    "from sklearn.neighbors import KNeighborsClassifier\n",
    "from sklearn.naive_bayes import MultinomialNB,BernoulliNB, GaussianNB\n",
    "from sklearn.svm import LinearSVC, SVC\n",
    "from sklearn.ensemble import RandomForestClassifier\n",
    "from mlxtend.classifier import StackingClassifier\n",
    "from sklearn.tree import DecisionTreeClassifier\n",
    "from sklearn import svm\n",
    "from sklearn.dummy import DummyClassifier\n",
    "from sklearn.ensemble import RandomForestClassifier, AdaBoostClassifier\n",
    "from sklearn.model_selection import RandomizedSearchCV, GridSearchCV\n",
    "\n",
    "\n",
    "from sklearn.metrics import classification_report, accuracy_score, confusion_matrix\n",
    "from sklearn.model_selection import RandomizedSearchCV\n",
    "\n",
    "from sklearn.model_selection import cross_val_score, train_test_split, cross_validate\n",
    "\n",
    "from mlxtend.plotting import plot_learning_curves\n",
    "from mlxtend.plotting import plot_decision_regions\n",
    "\n",
    "import time"
   ]
  },
  {
   "cell_type": "markdown",
   "metadata": {},
   "source": [
    "### Count Vectorizer"
   ]
  },
  {
   "cell_type": "code",
   "execution_count": 9,
   "metadata": {},
   "outputs": [],
   "source": [
    "y = meta_train['rating']\n",
    "X = text_train_vec\n",
    "X_train, X_valid, y_train, y_valid = train_test_split(X, y, test_size=0.25, random_state=30027)"
   ]
  },
  {
   "cell_type": "markdown",
   "metadata": {},
   "source": [
    "#### Testing different classifiers on Count Vectorizer feature set"
   ]
  },
  {
   "cell_type": "code",
   "execution_count": 10,
   "metadata": {},
   "outputs": [
    {
     "name": "stdout",
     "output_type": "stream",
     "text": [
      "Zero-R Accuracy: 0.6841955251531994 Time: 0.0009980201721191406\n",
      "MNB Accuracy: 0.837679920193815 Time: 0.004952907562255859\n"
     ]
    },
    {
     "name": "stderr",
     "output_type": "stream",
     "text": [
      "C:\\Users\\Gyu Hwan Park\\AppData\\Roaming\\Python\\Python37\\site-packages\\sklearn\\svm\\_base.py:975: ConvergenceWarning: Liblinear failed to converge, increase the number of iterations.\n",
      "  \"the number of iterations.\", ConvergenceWarning)\n"
     ]
    },
    {
     "name": "stdout",
     "output_type": "stream",
     "text": [
      "LinearSVC Accuracy: 0.8164457745475274 Time: 0.0\n",
      "Logistic Regression Accuracy: 0.8398175858629043 Time: 0.0\n"
     ]
    },
    {
     "name": "stderr",
     "output_type": "stream",
     "text": [
      "C:\\Users\\Gyu Hwan Park\\AppData\\Roaming\\Python\\Python37\\site-packages\\sklearn\\linear_model\\_logistic.py:762: ConvergenceWarning: lbfgs failed to converge (status=1):\n",
      "STOP: TOTAL NO. of ITERATIONS REACHED LIMIT.\n",
      "\n",
      "Increase the number of iterations (max_iter) or scale the data as shown in:\n",
      "    https://scikit-learn.org/stable/modules/preprocessing.html\n",
      "Please also refer to the documentation for alternative solver options:\n",
      "    https://scikit-learn.org/stable/modules/linear_model.html#logistic-regression\n",
      "  extra_warning_msg=_LOGISTIC_SOLVER_CONVERGENCE_MSG)\n"
     ]
    }
   ],
   "source": [
    "titles = ['Zero-R',\n",
    "          #'GNB',\n",
    "          'MNB',\n",
    "          'LinearSVC',\n",
    "          #'Decision Tree',\n",
    "          #'KNN',\n",
    "          #'Random Forest',\n",
    "          #'Ada Boost',\n",
    "          'Logistic Regression']\n",
    "\n",
    "models = [DummyClassifier(strategy='most_frequent'),\n",
    "          #GaussianNB(),\n",
    "          MultinomialNB(),\n",
    "          svm.LinearSVC(),\n",
    "          #DecisionTreeClassifier(),\n",
    "          #KNeighborsClassifier(),\n",
    "          #RandomForestClassifier(),\n",
    "          #AdaBoostClassifier(),\n",
    "          LogisticRegression()]\n",
    "\n",
    "for title, model in zip(titles, models):\n",
    "    model.fit(X_train,y_train)\n",
    "    start = time.time()\n",
    "    acc = model.score(X_valid, y_valid)\n",
    "    end = time.time()\n",
    "    t = end - start\n",
    "    print(title, \"Accuracy:\",acc, 'Time:', t)"
   ]
  },
  {
   "cell_type": "markdown",
   "metadata": {},
   "source": [
    "### Doc2Vec50"
   ]
  },
  {
   "cell_type": "code",
   "execution_count": 11,
   "metadata": {},
   "outputs": [],
   "source": [
    "y = meta_train['rating']\n",
    "X = train_doc2vec50\n",
    "X_train, X_valid, y_train, y_valid = train_test_split(X, y, test_size=0.25, random_state=30027)"
   ]
  },
  {
   "cell_type": "markdown",
   "metadata": {},
   "source": [
    "#### Testing accuracies of different individual classifiers on Count Vectorizer feature set"
   ]
  },
  {
   "cell_type": "code",
   "execution_count": 12,
   "metadata": {},
   "outputs": [
    {
     "name": "stdout",
     "output_type": "stream",
     "text": [
      "Zero-R Accuracy: 0.6841955251531994 Time: 0.0009982585906982422\n",
      "GNB Accuracy: 0.7310816588285592 Time: 0.016990184783935547\n"
     ]
    },
    {
     "name": "stderr",
     "output_type": "stream",
     "text": [
      "C:\\Users\\Gyu Hwan Park\\AppData\\Roaming\\Python\\Python37\\site-packages\\sklearn\\svm\\_base.py:975: ConvergenceWarning: Liblinear failed to converge, increase the number of iterations.\n",
      "  \"the number of iterations.\", ConvergenceWarning)\n"
     ]
    },
    {
     "name": "stdout",
     "output_type": "stream",
     "text": [
      "LinearSVC Accuracy: 0.8101752885848653 Time: 0.006981372833251953\n",
      "KNN Accuracy: 0.7669944420692604 Time: 31.483675956726074\n",
      "Ada Boost Accuracy: 0.7816730796636739 Time: 0.10571765899658203\n",
      "Random Forest Accuracy: 0.7672794641584723 Time: 0.15259242057800293\n",
      "Logistic Regression Accuracy: 0.81459313096765 Time: 0.0029921531677246094\n"
     ]
    }
   ],
   "source": [
    "titles = ['Zero-R',\n",
    "          'GNB',\n",
    "          #'MNB',\n",
    "          'LinearSVC',\n",
    "          #'Decision Tree',\n",
    "          #'KNN',\n",
    "          #'Ada Boost',\n",
    "          'Random Forest',\n",
    "          'Logistic Regression']\n",
    "\n",
    "models = [DummyClassifier(strategy='most_frequent'),\n",
    "          GaussianNB(),\n",
    "          #MultinomialNB(),\n",
    "          svm.LinearSVC(),\n",
    "          #DecisionTreeClassifier(),\n",
    "          #KNeighborsClassifier(),\n",
    "          #AdaBoostClassifier(),\n",
    "          RandomForestClassifier(),\n",
    "          LogisticRegression()]\n",
    "\n",
    "for title, model in zip(titles, models):\n",
    "    model.fit(X_train,y_train)\n",
    "    start = time.time()\n",
    "    acc = model.score(X_valid, y_valid)\n",
    "    end = time.time()\n",
    "    t = end - start\n",
    "    print(title, \"Accuracy:\",acc, 'Time:', t)"
   ]
  },
  {
   "cell_type": "markdown",
   "metadata": {},
   "source": [
    "### doc2vec100"
   ]
  },
  {
   "cell_type": "code",
   "execution_count": 13,
   "metadata": {},
   "outputs": [],
   "source": [
    "y = meta_train['rating']\n",
    "X = train_doc2vec100\n",
    "X_train, X_valid, y_train, y_valid = train_test_split(X, y, test_size=0.25, random_state=30027)"
   ]
  },
  {
   "cell_type": "code",
   "execution_count": 14,
   "metadata": {},
   "outputs": [
    {
     "name": "stdout",
     "output_type": "stream",
     "text": [
      "Zero-R Accuracy: 0.6841955251531994 Time: 0.0010256767272949219\n",
      "GNB Accuracy: 0.675644862476842 Time: 0.05091428756713867\n"
     ]
    },
    {
     "name": "stderr",
     "output_type": "stream",
     "text": [
      "C:\\Users\\Gyu Hwan Park\\AppData\\Roaming\\Python\\Python37\\site-packages\\sklearn\\svm\\_base.py:975: ConvergenceWarning: Liblinear failed to converge, increase the number of iterations.\n",
      "  \"the number of iterations.\", ConvergenceWarning)\n"
     ]
    },
    {
     "name": "stdout",
     "output_type": "stream",
     "text": [
      "LinearSVC Accuracy: 0.8165882855921334 Time: 0.0049591064453125\n",
      "Logistic Regression Accuracy: 0.82129115006413 Time: 0.0069828033447265625\n"
     ]
    }
   ],
   "source": [
    "titles = ['Zero-R',\n",
    "          'GNB',\n",
    "          #'MNB',\n",
    "          'LinearSVC',\n",
    "          #'Decision Tree',\n",
    "          #'KNN',\n",
    "          #'Ada Boost',\n",
    "          #'Random Forest',\n",
    "          'Logistic Regression']\n",
    "\n",
    "models = [DummyClassifier(strategy='most_frequent'),\n",
    "          GaussianNB(),\n",
    "          #MultinomialNB(),\n",
    "          svm.LinearSVC(),\n",
    "          #DecisionTreeClassifier(),\n",
    "          #KNeighborsClassifier(),\n",
    "          #AdaBoostClassifier(),\n",
    "          #RandomForestClassifier(),\n",
    "          LogisticRegression()]\n",
    "\n",
    "for title, model in zip(titles, models):\n",
    "    model.fit(X_train,y_train)\n",
    "    start = time.time()\n",
    "    acc = model.score(X_valid, y_valid)\n",
    "    end = time.time()\n",
    "    t = end - start\n",
    "    print(title, \"Accuracy:\",acc, 'Time:', t)"
   ]
  },
  {
   "cell_type": "markdown",
   "metadata": {},
   "source": [
    "### doc2vec200"
   ]
  },
  {
   "cell_type": "code",
   "execution_count": 15,
   "metadata": {},
   "outputs": [],
   "source": [
    "y = meta_train['rating']\n",
    "X = train_doc2vec200\n",
    "X_train, X_valid, y_train, y_valid = train_test_split(X, y, test_size=0.25, random_state=50)"
   ]
  },
  {
   "cell_type": "code",
   "execution_count": 16,
   "metadata": {},
   "outputs": [
    {
     "name": "stdout",
     "output_type": "stream",
     "text": [
      "Zero-R Accuracy: 0.6860481687330768 Time: 0.0\n",
      "GNB Accuracy: 0.622773264928032 Time: 0.06183505058288574\n"
     ]
    },
    {
     "name": "stderr",
     "output_type": "stream",
     "text": [
      "C:\\Users\\Gyu Hwan Park\\AppData\\Roaming\\Python\\Python37\\site-packages\\sklearn\\svm\\_base.py:975: ConvergenceWarning: Liblinear failed to converge, increase the number of iterations.\n",
      "  \"the number of iterations.\", ConvergenceWarning)\n"
     ]
    },
    {
     "name": "stdout",
     "output_type": "stream",
     "text": [
      "LinearSVC Accuracy: 0.8200085506626763 Time: 0.006982326507568359\n",
      "Logistic Regression Accuracy: 0.8232863046886134 Time: 0.00797891616821289\n"
     ]
    }
   ],
   "source": [
    "titles = ['Zero-R',\n",
    "          'GNB',\n",
    "          #'MNB',\n",
    "          'LinearSVC',\n",
    "          #'Decision Tree',\n",
    "          #'KNN',\n",
    "          #'Ada Boost',\n",
    "          #'Random Forest',\n",
    "          'Logistic Regression']\n",
    "\n",
    "models = [DummyClassifier(strategy='most_frequent'),\n",
    "          GaussianNB(),\n",
    "          #MultinomialNB(),\n",
    "          svm.LinearSVC(),\n",
    "          #DecisionTreeClassifier(),\n",
    "          #KNeighborsClassifier(),\n",
    "          #AdaBoostClassifier(),\n",
    "          #RandomForestClassifier(),\n",
    "          LogisticRegression()]\n",
    "\n",
    "for title, model in zip(titles, models):\n",
    "    model.fit(X_train,y_train)\n",
    "    start = time.time()\n",
    "    acc = model.score(X_valid, y_valid)\n",
    "    end = time.time()\n",
    "    t = end - start\n",
    "    print(title, \"Accuracy:\",acc, 'Time:', t)"
   ]
  },
  {
   "cell_type": "markdown",
   "metadata": {},
   "source": [
    "### Adding vote features to count vectorizer"
   ]
  },
  {
   "cell_type": "code",
   "execution_count": 17,
   "metadata": {},
   "outputs": [],
   "source": [
    "from scipy.sparse import hstack"
   ]
  },
  {
   "cell_type": "code",
   "execution_count": 18,
   "metadata": {},
   "outputs": [],
   "source": [
    "y = meta_train['rating']\n",
    "X = text_train_vec\n",
    "three_features = meta_train[['vote_funny', 'vote_cool', 'vote_useful']].values\n",
    "X_train_full = hstack((X, three_features))\n",
    "X_train, X_valid, y_train, y_valid = train_test_split(X_train_full, y, test_size=0.25, random_state=30027)"
   ]
  },
  {
   "cell_type": "code",
   "execution_count": 19,
   "metadata": {},
   "outputs": [
    {
     "name": "stdout",
     "output_type": "stream",
     "text": [
      "Zero-R Accuracy: 0.6841955251531994 Time: 0.00099945068359375\n",
      "MNB Accuracy: 0.8389625195952687 Time: 0.004954338073730469\n"
     ]
    },
    {
     "name": "stderr",
     "output_type": "stream",
     "text": [
      "C:\\Users\\Gyu Hwan Park\\AppData\\Roaming\\Python\\Python37\\site-packages\\sklearn\\svm\\_base.py:975: ConvergenceWarning: Liblinear failed to converge, increase the number of iterations.\n",
      "  \"the number of iterations.\", ConvergenceWarning)\n"
     ]
    },
    {
     "name": "stdout",
     "output_type": "stream",
     "text": [
      "LinearSVC Accuracy: 0.8194385064842525 Time: 0.003991842269897461\n"
     ]
    },
    {
     "name": "stderr",
     "output_type": "stream",
     "text": [
      "C:\\Users\\Gyu Hwan Park\\AppData\\Roaming\\Python\\Python37\\site-packages\\sklearn\\linear_model\\_logistic.py:762: ConvergenceWarning: lbfgs failed to converge (status=1):\n",
      "STOP: TOTAL NO. of ITERATIONS REACHED LIMIT.\n",
      "\n",
      "Increase the number of iterations (max_iter) or scale the data as shown in:\n",
      "    https://scikit-learn.org/stable/modules/preprocessing.html\n",
      "Please also refer to the documentation for alternative solver options:\n",
      "    https://scikit-learn.org/stable/modules/linear_model.html#logistic-regression\n",
      "  extra_warning_msg=_LOGISTIC_SOLVER_CONVERGENCE_MSG)\n"
     ]
    },
    {
     "name": "stdout",
     "output_type": "stream",
     "text": [
      "Logistic Regression Accuracy: 0.8429528288442354 Time: 0.0049877166748046875\n",
      "SGDClasifier Accuracy: 0.8353997434801197 Time: 0.004987001419067383\n"
     ]
    }
   ],
   "source": [
    "titles = ['Zero-R',\n",
    "          #'GNB',\n",
    "          'MNB',\n",
    "          'LinearSVC',\n",
    "          #'Decision Tree',\n",
    "          #'KNN',\n",
    "          #'Random Forest',\n",
    "          #'Ada Boost',\n",
    "          'Logistic Regression',\n",
    "          'SGDClasifier']\n",
    "\n",
    "models = [DummyClassifier(strategy='most_frequent'),\n",
    "          #GaussianNB(),\n",
    "          MultinomialNB(),\n",
    "          svm.LinearSVC(),\n",
    "          #DecisionTreeClassifier(),\n",
    "          #KNeighborsClassifier(),\n",
    "          #RandomForestClassifier(),\n",
    "          #AdaBoostClassifier(),\n",
    "          LogisticRegression(),\n",
    "          SGDClassifier()]\n",
    "\n",
    "for title, model in zip(titles, models):\n",
    "    model.fit(X_train,y_train)\n",
    "    start = time.time()\n",
    "    acc = model.score(X_valid, y_valid)\n",
    "    end = time.time()\n",
    "    t = end - start\n",
    "    print(title, \"Accuracy:\",acc, 'Time:', t)"
   ]
  },
  {
   "cell_type": "markdown",
   "metadata": {},
   "source": [
    "### Top 80% feature Selection"
   ]
  },
  {
   "cell_type": "code",
   "execution_count": 20,
   "metadata": {},
   "outputs": [],
   "source": [
    "from scipy import sparse"
   ]
  },
  {
   "cell_type": "code",
   "execution_count": 21,
   "metadata": {},
   "outputs": [],
   "source": [
    "data = pd.DataFrame(data=X_train.todense())\n",
    "valid = pd.DataFrame(data=X_valid.todense())"
   ]
  },
  {
   "cell_type": "markdown",
   "metadata": {},
   "source": [
    "#### Don't run the next 2 if loading top_features using pickle"
   ]
  },
  {
   "cell_type": "code",
   "execution_count": 23,
   "metadata": {},
   "outputs": [],
   "source": [
    "features = data.columns\n",
    "k_best = SelectPercentile(chi2, percentile=80).fit(data, y_train)\n",
    "k_best_features_chi2 = [features[i] for i in k_best.get_support(indices=True)]"
   ]
  },
  {
   "cell_type": "code",
   "execution_count": 25,
   "metadata": {},
   "outputs": [],
   "source": [
    "with open(\"k_best_features_chi2.txt\", \"wb\") as fp:   #Pickling\n",
    "    pickle.dump(k_best_features_chi2, fp)"
   ]
  },
  {
   "cell_type": "markdown",
   "metadata": {},
   "source": [
    "#### Load top_features"
   ]
  },
  {
   "cell_type": "code",
   "execution_count": 24,
   "metadata": {},
   "outputs": [],
   "source": [
    "with open(\"k_best_features_chi2.txt\", \"rb\") as fp:   # Unpickling\n",
    "    top_features = pickle.load(fp)"
   ]
  },
  {
   "cell_type": "markdown",
   "metadata": {},
   "source": [
    "#### Don't run this, you can just load using the cell below"
   ]
  },
  {
   "cell_type": "code",
   "execution_count": 25,
   "metadata": {},
   "outputs": [],
   "source": [
    "X_train_new = data[data.columns[top_features]]\n",
    "X_valid_new = valid[valid.columns[top_features]]\n",
    "\n",
    "X_train_new = sparse.csr_matrix(X_train_new)\n",
    "X_valid_new = sparse.csr_matrix(X_valid_new)"
   ]
  },
  {
   "cell_type": "markdown",
   "metadata": {},
   "source": [
    "#### Load X_train_new and X_valid_new using sparse.load_npz"
   ]
  },
  {
   "cell_type": "code",
   "execution_count": 63,
   "metadata": {},
   "outputs": [],
   "source": [
    "sparse.save_npz(\"X_train_new.npz\", X_train_new)\n",
    "X_train_new = sparse.load_npz(\"X_train_new.npz\")\n",
    "\n",
    "sparse.save_npz(\"X_valid_new.npz\", X_valid_new)\n",
    "X_valid_new = sparse.load_npz(\"X_valid_new.npz\")"
   ]
  },
  {
   "cell_type": "markdown",
   "metadata": {},
   "source": [
    "### Hyperparameter Tuning using GridSearchCV"
   ]
  },
  {
   "cell_type": "code",
   "execution_count": 26,
   "metadata": {},
   "outputs": [],
   "source": [
    "from sklearn.model_selection import GridSearchCV"
   ]
  },
  {
   "cell_type": "code",
   "execution_count": 66,
   "metadata": {},
   "outputs": [
    {
     "name": "stdout",
     "output_type": "stream",
     "text": [
      "Fitting 5 folds for each of 11 candidates, totalling 55 fits\n"
     ]
    },
    {
     "name": "stderr",
     "output_type": "stream",
     "text": [
      "[Parallel(n_jobs=4)]: Using backend LokyBackend with 4 concurrent workers.\n"
     ]
    },
    {
     "name": "stdout",
     "output_type": "stream",
     "text": [
      "{'alpha': 1.0}\n",
      "0.8401501778793354\n"
     ]
    },
    {
     "name": "stderr",
     "output_type": "stream",
     "text": [
      "[Parallel(n_jobs=4)]: Done  55 out of  55 | elapsed:    3.1s finished\n"
     ]
    }
   ],
   "source": [
    "np.random.seed(999)\n",
    "\n",
    "nb_classifier = MultinomialNB()\n",
    "\n",
    "params_NB = {'alpha': np.arange(0,1.1,0.1)}\n",
    "\n",
    "best_MNB = GridSearchCV(estimator=nb_classifier, \n",
    "                     param_grid=params_NB, \n",
    "                     cv=5,\n",
    "                     verbose=1, \n",
    "                     scoring='accuracy',\n",
    "                       n_jobs=4)\n",
    "\n",
    "best_MNB.fit(X_train_new, y_train)\n",
    "print(best_MNB.best_params_)\n",
    "print(best_MNB.best_score_)"
   ]
  },
  {
   "cell_type": "markdown",
   "metadata": {},
   "source": [
    "### *This code takes forever to run! 15min+"
   ]
  },
  {
   "cell_type": "code",
   "execution_count": 73,
   "metadata": {},
   "outputs": [
    {
     "name": "stdout",
     "output_type": "stream",
     "text": [
      "Fitting 5 folds for each of 44 candidates, totalling 220 fits\n"
     ]
    },
    {
     "name": "stderr",
     "output_type": "stream",
     "text": [
      "[Parallel(n_jobs=4)]: Using backend LokyBackend with 4 concurrent workers.\n",
      "[Parallel(n_jobs=4)]: Done  42 tasks      | elapsed:  2.3min\n",
      "[Parallel(n_jobs=4)]: Done 192 tasks      | elapsed: 11.4min\n",
      "[Parallel(n_jobs=4)]: Done 220 out of 220 | elapsed: 13.2min finished\n"
     ]
    },
    {
     "name": "stdout",
     "output_type": "stream",
     "text": [
      "{'epsilon': 0.5, 'loss': 'log', 'penalty': 'l2'}\n",
      "0.8415275567721909\n"
     ]
    }
   ],
   "source": [
    "np.random.seed(999)\n",
    "SGD_classifier = SGDClassifier()\n",
    "\n",
    "params_SGD = {'loss': ['log', 'modified_huber'],\n",
    "            'penalty': ['l1','l2'],\n",
    "            'epsilon': np.arange(0,1.1,0.1)}\n",
    "\n",
    "best_SGD = GridSearchCV(estimator=SGD_classifier, \n",
    "                     param_grid=params_SGD, \n",
    "                     cv=5,\n",
    "                     verbose=1, \n",
    "                     scoring='accuracy',\n",
    "                     n_jobs=4)\n",
    "\n",
    "best_SGD.fit(X_train_new, y_train)\n",
    "print(best_SGD.best_params_)\n",
    "print(best_SGD.best_score_)"
   ]
  },
  {
   "cell_type": "code",
   "execution_count": 68,
   "metadata": {},
   "outputs": [
    {
     "name": "stdout",
     "output_type": "stream",
     "text": [
      "Fitting 5 folds for each of 6 candidates, totalling 30 fits\n"
     ]
    },
    {
     "name": "stderr",
     "output_type": "stream",
     "text": [
      "[Parallel(n_jobs=4)]: Using backend LokyBackend with 4 concurrent workers.\n",
      "[Parallel(n_jobs=4)]: Done  30 out of  30 | elapsed:   13.1s finished\n"
     ]
    },
    {
     "name": "stdout",
     "output_type": "stream",
     "text": [
      "{'C': 1, 'penalty': 'l2'}\n",
      "0.8395799373995603\n"
     ]
    },
    {
     "name": "stderr",
     "output_type": "stream",
     "text": [
      "C:\\Users\\Gyu Hwan Park\\AppData\\Roaming\\Python\\Python37\\site-packages\\sklearn\\linear_model\\_logistic.py:762: ConvergenceWarning: lbfgs failed to converge (status=1):\n",
      "STOP: TOTAL NO. of ITERATIONS REACHED LIMIT.\n",
      "\n",
      "Increase the number of iterations (max_iter) or scale the data as shown in:\n",
      "    https://scikit-learn.org/stable/modules/preprocessing.html\n",
      "Please also refer to the documentation for alternative solver options:\n",
      "    https://scikit-learn.org/stable/modules/linear_model.html#logistic-regression\n",
      "  extra_warning_msg=_LOGISTIC_SOLVER_CONVERGENCE_MSG)\n"
     ]
    }
   ],
   "source": [
    "np.random.seed(999)\n",
    "LR_classifier = LogisticRegression()\n",
    "\n",
    "params_LR = {'penalty': ['l1','l2'],\n",
    "            'C': [0, 1, 10]}\n",
    "\n",
    "best_LR = GridSearchCV(estimator=LR_classifier, \n",
    "                     param_grid=params_LR, \n",
    "                     cv=5,\n",
    "                     verbose=1, \n",
    "                     scoring='accuracy',\n",
    "                     n_jobs=4)\n",
    "\n",
    "best_LR.fit(X_train_new, y_train)\n",
    "print(best_LR.best_params_)\n",
    "print(best_LR.best_score_)"
   ]
  },
  {
   "cell_type": "code",
   "execution_count": 69,
   "metadata": {},
   "outputs": [
    {
     "name": "stdout",
     "output_type": "stream",
     "text": [
      "Fitting 5 folds for each of 14 candidates, totalling 70 fits\n"
     ]
    },
    {
     "name": "stderr",
     "output_type": "stream",
     "text": [
      "[Parallel(n_jobs=4)]: Using backend LokyBackend with 4 concurrent workers.\n",
      "[Parallel(n_jobs=4)]: Done  42 tasks      | elapsed:   54.5s\n"
     ]
    },
    {
     "name": "stdout",
     "output_type": "stream",
     "text": [
      "{'n_neighbors': 7, 'weights': 'uniform'}\n",
      "0.7102748767366996\n"
     ]
    },
    {
     "name": "stderr",
     "output_type": "stream",
     "text": [
      "[Parallel(n_jobs=4)]: Done  70 out of  70 | elapsed:  1.5min finished\n"
     ]
    }
   ],
   "source": [
    "np.random.seed(999)\n",
    "knn_classifier = KNeighborsClassifier()\n",
    "\n",
    "params_knn = {'n_neighbors':[3,5,7,9,11,13,15],\n",
    "             'weights': ['uniform', 'distance']}\n",
    "\n",
    "best_knn = GridSearchCV(estimator=knn_classifier, \n",
    "                     param_grid=params_knn, \n",
    "                     cv=5,\n",
    "                     verbose=1, \n",
    "                     scoring='accuracy',\n",
    "                     n_jobs=4)\n",
    "\n",
    "best_knn.fit(X_train_new, y_train)\n",
    "print(best_knn.best_params_)\n",
    "print(best_knn.best_score_)"
   ]
  },
  {
   "cell_type": "markdown",
   "metadata": {},
   "source": [
    "### Ensemble Stacking Classifier"
   ]
  },
  {
   "cell_type": "code",
   "execution_count": 74,
   "metadata": {},
   "outputs": [],
   "source": [
    "base_clf1 = MultinomialNB(alpha=1)\n",
    "base_clf2 = SGDClassifier(loss=\"log\", penalty='l2', epsilon=0.5)\n",
    "base_clf3 = LogisticRegression(penalty='l2', C=1)\n",
    "base_clf4 = KNeighborsClassifier(n_neighbors=7, weights='uniform')\n",
    "\n",
    "meta_clf = LogisticRegression(penalty='l2')"
   ]
  },
  {
   "cell_type": "code",
   "execution_count": 75,
   "metadata": {},
   "outputs": [],
   "source": [
    "stk_clf = StackingCVClassifier(classifiers=[base_clf1, base_clf2, base_clf3, base_clf4],\n",
    "                              meta_classifier=meta_clf, use_probas=True)"
   ]
  },
  {
   "cell_type": "code",
   "execution_count": 76,
   "metadata": {},
   "outputs": [
    {
     "name": "stderr",
     "output_type": "stream",
     "text": [
      "C:\\Users\\Gyu Hwan Park\\AppData\\Roaming\\Python\\Python37\\site-packages\\sklearn\\linear_model\\_logistic.py:762: ConvergenceWarning: lbfgs failed to converge (status=1):\n",
      "STOP: TOTAL NO. of ITERATIONS REACHED LIMIT.\n",
      "\n",
      "Increase the number of iterations (max_iter) or scale the data as shown in:\n",
      "    https://scikit-learn.org/stable/modules/preprocessing.html\n",
      "Please also refer to the documentation for alternative solver options:\n",
      "    https://scikit-learn.org/stable/modules/linear_model.html#logistic-regression\n",
      "  extra_warning_msg=_LOGISTIC_SOLVER_CONVERGENCE_MSG)\n",
      "C:\\Users\\Gyu Hwan Park\\AppData\\Roaming\\Python\\Python37\\site-packages\\sklearn\\linear_model\\_logistic.py:762: ConvergenceWarning: lbfgs failed to converge (status=1):\n",
      "STOP: TOTAL NO. of ITERATIONS REACHED LIMIT.\n",
      "\n",
      "Increase the number of iterations (max_iter) or scale the data as shown in:\n",
      "    https://scikit-learn.org/stable/modules/preprocessing.html\n",
      "Please also refer to the documentation for alternative solver options:\n",
      "    https://scikit-learn.org/stable/modules/linear_model.html#logistic-regression\n",
      "  extra_warning_msg=_LOGISTIC_SOLVER_CONVERGENCE_MSG)\n",
      "C:\\Users\\Gyu Hwan Park\\AppData\\Roaming\\Python\\Python37\\site-packages\\sklearn\\linear_model\\_logistic.py:762: ConvergenceWarning: lbfgs failed to converge (status=1):\n",
      "STOP: TOTAL NO. of ITERATIONS REACHED LIMIT.\n",
      "\n",
      "Increase the number of iterations (max_iter) or scale the data as shown in:\n",
      "    https://scikit-learn.org/stable/modules/preprocessing.html\n",
      "Please also refer to the documentation for alternative solver options:\n",
      "    https://scikit-learn.org/stable/modules/linear_model.html#logistic-regression\n",
      "  extra_warning_msg=_LOGISTIC_SOLVER_CONVERGENCE_MSG)\n"
     ]
    },
    {
     "data": {
      "text/plain": [
       "0.8544962234573179"
      ]
     },
     "execution_count": 76,
     "metadata": {},
     "output_type": "execute_result"
    }
   ],
   "source": [
    "stk_clf.fit(X_train_new, y_train)\n",
    "stk_clf.score(X_valid_new, y_valid)"
   ]
  },
  {
   "cell_type": "markdown",
   "metadata": {},
   "source": [
    "### Result / Analysis"
   ]
  },
  {
   "cell_type": "markdown",
   "metadata": {},
   "source": [
    "#### Heatmap and results report"
   ]
  },
  {
   "cell_type": "code",
   "execution_count": 26,
   "metadata": {},
   "outputs": [],
   "source": [
    "category = [1,3,5]\n",
    "\n",
    "def report(clf, X_test, y_test):\n",
    "    # generates a report summary\n",
    "    y_pred = clf.predict(X_test)\n",
    "    print(classification_report(y_test, y_pred))\n",
    "    print(f'Accuracy: {100*accuracy_score(y_pred, y_test):.2f}%')\n",
    "    df = pd.DataFrame(confusion_matrix(y_test, y_pred, labels=category), index=category, columns=category)\n",
    "    sns.heatmap(df, annot=True, fmt='d', cmap=\"Blues\", annot_kws={\"size\": 20})\n",
    "    sns.set(font_scale=1.5)\n",
    "    plt.xlabel(\"Predicted Label\")\n",
    "    plt.ylabel(\"True Label\")\n",
    "    plt.yticks(rotation=0)\n",
    "    plt.show()\n",
    "    return y_pred"
   ]
  },
  {
   "cell_type": "markdown",
   "metadata": {},
   "source": [
    "#### MNB"
   ]
  },
  {
   "cell_type": "code",
   "execution_count": 77,
   "metadata": {},
   "outputs": [
    {
     "name": "stdout",
     "output_type": "stream",
     "text": [
      "              precision    recall  f1-score   support\n",
      "\n",
      "           1       0.78      0.58      0.67       579\n",
      "           3       0.71      0.62      0.66      1637\n",
      "           5       0.88      0.95      0.91      4801\n",
      "\n",
      "    accuracy                           0.84      7017\n",
      "   macro avg       0.79      0.72      0.75      7017\n",
      "weighted avg       0.83      0.84      0.83      7017\n",
      "\n",
      "Accuracy: 84.10%\n"
     ]
    },
    {
     "data": {
      "image/png": "[encoded data removed]",
      "text/plain": [
       "<Figure size 432x288 with 2 Axes>"
      ]
     },
     "metadata": {},
     "output_type": "display_data"
    },
    {
     "data": {
      "text/plain": [
       "array([5, 5, 5, ..., 5, 3, 5], dtype=int64)"
      ]
     },
     "execution_count": 77,
     "metadata": {},
     "output_type": "execute_result"
    }
   ],
   "source": [
    "base_clf1.fit(X_train_new, y_train)\n",
    "report(base_clf1, X_valid_new, y_valid)"
   ]
  },
  {
   "cell_type": "markdown",
   "metadata": {},
   "source": [
    "#### SGD"
   ]
  },
  {
   "cell_type": "code",
   "execution_count": 78,
   "metadata": {},
   "outputs": [
    {
     "name": "stdout",
     "output_type": "stream",
     "text": [
      "              precision    recall  f1-score   support\n",
      "\n",
      "           1       0.80      0.58      0.67       579\n",
      "           3       0.70      0.66      0.68      1637\n",
      "           5       0.89      0.93      0.91      4801\n",
      "\n",
      "    accuracy                           0.84      7017\n",
      "   macro avg       0.79      0.72      0.75      7017\n",
      "weighted avg       0.83      0.84      0.83      7017\n",
      "\n",
      "Accuracy: 83.88%\n"
     ]
    },
    {
     "data": {
      "image/png": "[encoded data removed]",
      "text/plain": [
       "<Figure size 432x288 with 2 Axes>"
      ]
     },
     "metadata": {},
     "output_type": "display_data"
    },
    {
     "data": {
      "text/plain": [
       "array([5, 5, 5, ..., 5, 3, 5], dtype=int64)"
      ]
     },
     "execution_count": 78,
     "metadata": {},
     "output_type": "execute_result"
    }
   ],
   "source": [
    "base_clf2.fit(X_train_new, y_train)\n",
    "report(base_clf2, X_valid_new, y_valid)"
   ]
  },
  {
   "cell_type": "markdown",
   "metadata": {},
   "source": [
    "#### LR"
   ]
  },
  {
   "cell_type": "code",
   "execution_count": 79,
   "metadata": {},
   "outputs": [
    {
     "name": "stderr",
     "output_type": "stream",
     "text": [
      "C:\\Users\\Gyu Hwan Park\\AppData\\Roaming\\Python\\Python37\\site-packages\\sklearn\\linear_model\\_logistic.py:762: ConvergenceWarning: lbfgs failed to converge (status=1):\n",
      "STOP: TOTAL NO. of ITERATIONS REACHED LIMIT.\n",
      "\n",
      "Increase the number of iterations (max_iter) or scale the data as shown in:\n",
      "    https://scikit-learn.org/stable/modules/preprocessing.html\n",
      "Please also refer to the documentation for alternative solver options:\n",
      "    https://scikit-learn.org/stable/modules/linear_model.html#logistic-regression\n",
      "  extra_warning_msg=_LOGISTIC_SOLVER_CONVERGENCE_MSG)\n"
     ]
    },
    {
     "name": "stdout",
     "output_type": "stream",
     "text": [
      "              precision    recall  f1-score   support\n",
      "\n",
      "           1       0.74      0.65      0.69       579\n",
      "           3       0.69      0.64      0.67      1637\n",
      "           5       0.89      0.93      0.91      4801\n",
      "\n",
      "    accuracy                           0.84      7017\n",
      "   macro avg       0.78      0.74      0.76      7017\n",
      "weighted avg       0.83      0.84      0.83      7017\n",
      "\n",
      "Accuracy: 83.71%\n"
     ]
    },
    {
     "data": {
      "image/png": "[encoded data removed]",
      "text/plain": [
       "<Figure size 432x288 with 2 Axes>"
      ]
     },
     "metadata": {},
     "output_type": "display_data"
    },
    {
     "data": {
      "text/plain": [
       "array([5, 5, 5, ..., 5, 3, 5], dtype=int64)"
      ]
     },
     "execution_count": 79,
     "metadata": {},
     "output_type": "execute_result"
    }
   ],
   "source": [
    "base_clf3.fit(X_train_new, y_train)\n",
    "report(base_clf3, X_valid_new, y_valid)"
   ]
  },
  {
   "cell_type": "markdown",
   "metadata": {},
   "source": [
    "#### KNN"
   ]
  },
  {
   "cell_type": "code",
   "execution_count": 81,
   "metadata": {},
   "outputs": [
    {
     "name": "stdout",
     "output_type": "stream",
     "text": [
      "              precision    recall  f1-score   support\n",
      "\n",
      "           1       0.67      0.04      0.08       579\n",
      "           3       0.56      0.18      0.27      1637\n",
      "           5       0.72      0.97      0.83      4801\n",
      "\n",
      "    accuracy                           0.71      7017\n",
      "   macro avg       0.65      0.40      0.39      7017\n",
      "weighted avg       0.68      0.71      0.63      7017\n",
      "\n",
      "Accuracy: 70.76%\n"
     ]
    },
    {
     "data": {
      "image/png": "[encoded data removed]",
      "text/plain": [
       "<Figure size 432x288 with 2 Axes>"
      ]
     },
     "metadata": {},
     "output_type": "display_data"
    },
    {
     "data": {
      "text/plain": [
       "array([5, 3, 5, ..., 5, 5, 5], dtype=int64)"
      ]
     },
     "execution_count": 81,
     "metadata": {},
     "output_type": "execute_result"
    }
   ],
   "source": [
    "base_clf4.fit(X_train_new, y_train)\n",
    "report(base_clf4, X_valid_new, y_valid)"
   ]
  },
  {
   "cell_type": "markdown",
   "metadata": {},
   "source": [
    "#### STK"
   ]
  },
  {
   "cell_type": "code",
   "execution_count": 82,
   "metadata": {},
   "outputs": [
    {
     "name": "stdout",
     "output_type": "stream",
     "text": [
      "              precision    recall  f1-score   support\n",
      "\n",
      "           1       0.77      0.69      0.72       579\n",
      "           3       0.74      0.65      0.69      1637\n",
      "           5       0.90      0.94      0.92      4801\n",
      "\n",
      "    accuracy                           0.85      7017\n",
      "   macro avg       0.80      0.76      0.78      7017\n",
      "weighted avg       0.85      0.85      0.85      7017\n",
      "\n",
      "Accuracy: 85.45%\n"
     ]
    },
    {
     "data": {
      "image/png": "[encoded data removed]",
      "text/plain": [
       "<Figure size 432x288 with 2 Axes>"
      ]
     },
     "metadata": {},
     "output_type": "display_data"
    },
    {
     "data": {
      "text/plain": [
       "array([5, 5, 5, ..., 5, 3, 5], dtype=int64)"
      ]
     },
     "execution_count": 82,
     "metadata": {},
     "output_type": "execute_result"
    }
   ],
   "source": [
    "report(stk_clf, X_valid_new, y_valid)"
   ]
  },
  {
   "cell_type": "markdown",
   "metadata": {},
   "source": [
    "### Predicting on Test set for final Kaggle Submission"
   ]
  },
  {
   "cell_type": "code",
   "execution_count": 18,
   "metadata": {},
   "outputs": [],
   "source": [
    "X_test = text_test_vec\n",
    "three_features = meta_test[['vote_funny', 'vote_cool', 'vote_useful']].values\n",
    "X_test_new = hstack((X_test, three_features))"
   ]
  },
  {
   "cell_type": "code",
   "execution_count": 20,
   "metadata": {},
   "outputs": [],
   "source": [
    "X_test_new_dense = pd.DataFrame(data=X_test_new.todense())\n",
    "X_test_80 = X_test_new_dense[X_test_new_dense.columns[top_features]]\n",
    "X_test_sparse = sparse.csr_matrix(X_test_80)"
   ]
  },
  {
   "cell_type": "code",
   "execution_count": 87,
   "metadata": {},
   "outputs": [],
   "source": [
    "y_final_pred = stk_clf.predict(X_test_sparse)"
   ]
  },
  {
   "cell_type": "code",
   "execution_count": 22,
   "metadata": {},
   "outputs": [],
   "source": [
    "final_pred_df = pd.DataFrame()\n",
    "final_pred_df['Instance_id'] = range(1, len(y_final_pred) + 1)\n",
    "final_pred_df['rating'] = y_final_pred"
   ]
  },
  {
   "cell_type": "code",
   "execution_count": 23,
   "metadata": {},
   "outputs": [],
   "source": [
    "final_pred_df.set_index('Instance_id', inplace=True)"
   ]
  },
  {
   "cell_type": "code",
   "execution_count": 24,
   "metadata": {},
   "outputs": [],
   "source": [
    "import csv"
   ]
  },
  {
   "cell_type": "code",
   "execution_count": 25,
   "metadata": {},
   "outputs": [],
   "source": [
    "final_pred_df.to_csv('final_predictions.csv')"
   ]
  }
 ],
 "metadata": {
  "kernelspec": {
   "display_name": "Python 3",
   "language": "python",
   "name": "python3"
  },
  "language_info": {
   "codemirror_mode": {
    "name": "ipython",
    "version": 3
   },
   "file_extension": ".py",
   "mimetype": "text/x-python",
   "name": "python",
   "nbconvert_exporter": "python",
   "pygments_lexer": "ipython3",
   "version": "3.7.1"
  }
 },
 "nbformat": 4,
 "nbformat_minor": 2
}
